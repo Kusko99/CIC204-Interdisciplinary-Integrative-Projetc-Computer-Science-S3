{
  "nbformat": 4,
  "nbformat_minor": 0,
  "metadata": {
    "colab": {
      "provenance": []
    },
    "kernelspec": {
      "name": "python3",
      "display_name": "Python 3"
    },
    "language_info": {
      "name": "python"
    }
  },
  "cells": [
    {
      "cell_type": "code",
      "execution_count": null,
      "metadata": {
        "colab": {
          "base_uri": "https://localhost:8080/"
        },
        "id": "ziHFi-6X5yn6",
        "outputId": "60c242e1-0f6a-4090-bde0-63f05247ac9e"
      },
      "outputs": [
        {
          "output_type": "stream",
          "name": "stdout",
          "text": [
            "digite a nota da p1: 1\n",
            "digite a nota da t1: 1\n",
            "digite o peso de prova: 5\n",
            "Po cara vai se sub mesmo\n",
            "Considerando a nota do T2 = 10 a Nota da P2 = 12.0\n",
            "Considerando que a nota da P2 nao foi a esperada vc precisa tirar 6.5 na p_sub\n"
          ]
        }
      ],
      "source": [
        "def arrumar_peso():\n",
        "  peso_prova = int(input(\"digite o peso de prova: \"))\n",
        "  if peso_prova > 1:\n",
        "    peso_prova = peso_prova/10\n",
        "  peso_trab = peso_prova-1\n",
        "\n",
        "p1 = int(input(\"digite a nota da p1: \"))\n",
        "t1 = int(input(\"digite a nota da t1: \"))\n",
        "arrumar_peso()\n",
        "media = (((p1)/2)*peso_prova + ((t1+10)/2)*peso_trab)\n",
        "if (media<6):\n",
        "  p2 = (((6-((t1+10)/2)*peso_trab)/peso_prova)*2)-p1\n",
        "  if (p2>10):\n",
        "    print(\"Po cara vai se sub mesmo\")\n",
        "  p_sub = (((6-((t1+10)/2)*peso_trab)/peso_prova)*2)-p1\n",
        "  if (p1<p_sub):\n",
        "    p_sub = (((6-((t1+10)/2)*peso_trab)/peso_prova)*2)/2\n",
        "  print(f\"Considerando a nota do T2 = 10 a Nota da P2 = {p2}\")\n",
        "  print(f\"Considerando que a nota da P2 nao foi a esperada vc precisa tirar {p_sub} na p_sub\")\n",
        "elif(media>=6):\n",
        "   t2 = (((6-(p1/2)*peso_prova)/peso_trab)*2)-t1\n",
        "   print(f\"Podendo zerar a P2, tire {t2} na T2\")"
      ]
    }
  ]
}